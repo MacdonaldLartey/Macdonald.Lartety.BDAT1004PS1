{
 "cells": [
  {
   "cell_type": "markdown",
   "id": "b3bc88bf",
   "metadata": {},
   "source": [
    "\n",
    "# PROBLEM SET 1\n",
    " QUESTION 1"
   ]
  },
  {
   "cell_type": "code",
   "execution_count": 1,
   "id": "6ca0afda",
   "metadata": {},
   "outputs": [
    {
     "name": "stdout",
     "output_type": "stream",
     "text": [
      "<class 'int'>\n",
      "<class 'float'>\n",
      "<class 'bool'>\n",
      "<class 'str'>\n",
      "<class 'int'>\n",
      "<class 'str'>\n",
      "<class 'str'>\n",
      "<class 'float'>\n",
      "<class 'int'>\n",
      "<class 'set'>\n",
      "<class 'bool'>\n",
      "<class 'float'>\n"
     ]
    }
   ],
   "source": [
    "print(type(5))\n",
    "print(type(5.0))\n",
    "print(type(5 > 1))\n",
    "print(type('5'))\n",
    "print(type(5*2))\n",
    "print(type('5'*2))\n",
    "print(type('5'+'2'))\n",
    "print(type(5/2))\n",
    "print(type(5%2))\n",
    "print(type({5,2,1}))\n",
    "print (type(5 == 3))\n",
    "\n",
    "import math\n",
    "print(type(math.pi))\n",
    "    "
   ]
  },
  {
   "cell_type": "markdown",
   "id": "a051f887",
   "metadata": {},
   "source": [
    "So therefore the variable types are integers,float,boolean,string,integers,string,string,float,integers,set,boolean and float"
   ]
  },
  {
   "cell_type": "markdown",
   "id": "e9f3ed30",
   "metadata": {},
   "source": [
    "# QUESTION 2"
   ]
  },
  {
   "cell_type": "markdown",
   "id": "4f0b010e",
   "metadata": {},
   "source": [
    "a. How many letters are there in 'Supercalifragilisticexpialidocious'?\n"
   ]
  },
  {
   "cell_type": "code",
   "execution_count": 2,
   "id": "66129466",
   "metadata": {},
   "outputs": [
    {
     "name": "stdout",
     "output_type": "stream",
     "text": [
      "34\n"
     ]
    }
   ],
   "source": [
    "P= 'Supercalifragilisticexpialidocious'\n",
    "print(len(P))"
   ]
  },
  {
   "cell_type": "markdown",
   "id": "e6d5fe6b",
   "metadata": {},
   "source": [
    "b.Does 'Supercalifragilisticexpialidocious' contain 'ice' as a substring?\n"
   ]
  },
  {
   "cell_type": "code",
   "execution_count": 3,
   "id": "9f343612",
   "metadata": {},
   "outputs": [
    {
     "name": "stdout",
     "output_type": "stream",
     "text": [
      "True\n"
     ]
    }
   ],
   "source": [
    "print ('ice' in P)"
   ]
  },
  {
   "cell_type": "markdown",
   "id": "e9588039",
   "metadata": {},
   "source": [
    "c.Which of the following words is the longest: Supercalifragilisticexpialidocious, Honorificabilitudinitatibus, or Bababadalgharaghtakamminarronnkonn?"
   ]
  },
  {
   "cell_type": "code",
   "execution_count": 4,
   "id": "9f41bb63",
   "metadata": {},
   "outputs": [
    {
     "name": "stdout",
     "output_type": "stream",
     "text": [
      "Supercalifragilisticexpialidocious\n"
     ]
    }
   ],
   "source": [
    "cat_a=['Supercalifragilisticexpialidocious','Honorificabilitudinitatibus', 'Bababadalgharaghtakamminarronnkonn']\n",
    "print(max(cat_a))"
   ]
  },
  {
   "cell_type": "markdown",
   "id": "f18f0010",
   "metadata": {},
   "source": [
    "d. Which composer comes first in the dictionary: 'Berlioz', 'Borodin', 'Brian', 'Bartok', 'Bellini', 'Buxtehude', 'Bernstein'. Which one comes last?"
   ]
  },
  {
   "cell_type": "code",
   "execution_count": 5,
   "id": "2928316d",
   "metadata": {},
   "outputs": [
    {
     "name": "stdout",
     "output_type": "stream",
     "text": [
      "['Bartok', 'Bellini', 'Berlioz', 'Bernstein', 'Borodin', 'Brian', 'Buxtehude']\n",
      "Bartok\n",
      "Buxtehude\n"
     ]
    }
   ],
   "source": [
    "cat_b= ['Berlioz', 'Borodin', 'Brian', 'Bartok', 'Bellini', 'Buxtehude', 'Bernstein']\n",
    "cat_b.sort()\n",
    "print(cat_b)\n",
    "#For the name that comes first\n",
    "print(cat_b[0])\n",
    "#For the name that comes last\n",
    "print(cat_b[-1])"
   ]
  },
  {
   "cell_type": "markdown",
   "id": "83d832f6",
   "metadata": {},
   "source": [
    "# QUESTION 3"
   ]
  },
  {
   "cell_type": "markdown",
   "id": "8c4c8680",
   "metadata": {},
   "source": [
    "Implement function triangleArea(a,b,c) that takes as input the lengths of the 3 sides of a triangle and returns the area of the triangle. By Heron's formula, the area of a triangle with side lengths a, b, and c iss(s - a)(s - b)(s - c) , where s = (a + b + c)/2.triangleArea(2,2,2) 1.7320508075688772"
   ]
  },
  {
   "cell_type": "code",
   "execution_count": 6,
   "id": "324684c2",
   "metadata": {},
   "outputs": [
    {
     "name": "stdout",
     "output_type": "stream",
     "text": [
      "enter the first length 2\n",
      "enter the second length 2\n",
      "enter the third length 2\n",
      "1.7320508075688772\n"
     ]
    }
   ],
   "source": [
    "import math\n",
    "a= float (input(\"enter the first length \"))\n",
    "b= float (input(\"enter the second length \"))\n",
    "c = float (input(\"enter the third length \"))\n",
    "s= float ((a+b+c)/2)\n",
    "Area=math.sqrt(s*(s-a)*(s-b)*(s-c))\n",
    "print(Area)"
   ]
  },
  {
   "cell_type": "markdown",
   "id": "bc86a499",
   "metadata": {},
   "source": [
    " # QUESTION 4"
   ]
  },
  {
   "cell_type": "markdown",
   "id": "35aaaefe",
   "metadata": {},
   "source": [
    "Write a program in python to separate odd and even integers in separate arrays. Go to the editor Test Data : Input the number of elements to be stored in the array :5 Input 5 elements in the array : element - 0 : 25 element - 1 : 47 element - 2 : 42 element - 3 : 56 element - 4 : 32 Expected Output: The Even elements are: 42 56 32 The Odd elements are : 25 47 "
   ]
  },
  {
   "cell_type": "code",
   "execution_count": 8,
   "id": "d1dd20cc",
   "metadata": {},
   "outputs": [],
   "source": [
    "mp =[25,47,42,56,32]"
   ]
  },
  {
   "cell_type": "markdown",
   "id": "b2893a50",
   "metadata": {},
   "source": [
    "For even numbers in the list\n"
   ]
  },
  {
   "cell_type": "code",
   "execution_count": 9,
   "id": "3e6270fe",
   "metadata": {},
   "outputs": [
    {
     "name": "stdout",
     "output_type": "stream",
     "text": [
      "42 56 32 "
     ]
    }
   ],
   "source": [
    "for i in mp:\n",
    "    if i%2 ==0:\n",
    "        print(i,end=\" \")"
   ]
  },
  {
   "cell_type": "markdown",
   "id": "fb10a5b2",
   "metadata": {},
   "source": [
    "for odd numbers in the list\n"
   ]
  },
  {
   "cell_type": "code",
   "execution_count": 10,
   "id": "c7814d13",
   "metadata": {},
   "outputs": [
    {
     "name": "stdout",
     "output_type": "stream",
     "text": [
      "25 47 "
     ]
    }
   ],
   "source": [
    "for o in mp:\n",
    "    if o%2!=0:\n",
    "        print(o,end = \" \")"
   ]
  },
  {
   "cell_type": "markdown",
   "id": "8a74adfb",
   "metadata": {},
   "source": [
    "# QUESTION 5"
   ]
  },
  {
   "cell_type": "markdown",
   "id": "2ed35cee",
   "metadata": {},
   "source": [
    "a.Write a function inside(x,y,x1,y1,x2,y2) that returns True or False\n",
    "depending on whether the point (x,y) lies in the rectangle with lower left\n",
    "corner (x1,y1) and upper right corner (x2,y2).inside(1,1,0,0,2,3)\n",
    "True .inside(-1,-1,0,0,2,3).False"
   ]
  },
  {
   "cell_type": "markdown",
   "id": "07642f6c",
   "metadata": {},
   "source": [
    "def inside(x,y,x1,y1,x2,y2):\n",
    "    #we have to check if the point is inside the rectangle by collating x and y cordinates.\n",
    "    if x1 <= x <=x2 and y1 <= y <= y2:\n",
    "        return True\n",
    "    else:\n",
    "        return False\n",
    "\n",
    "#Test numbers\n",
    "print(inside(1,1,0,0,2,3))  \n",
    "print(inside(-1, -1,0,0,2,3)) "
   ]
  },
  {
   "cell_type": "markdown",
   "id": "554a1e7e",
   "metadata": {},
   "source": [
    "b.Use function inside() from part a. to write an expression that tests whether the point (1,1) lies in both of the following rectangles: one with lower left corner (0.3, 0.5) and upper right corner (1.1, 0.7) and the other with lower left corner (0.5, 0.2) and upper right corner (1.1, 2)"
   ]
  },
  {
   "cell_type": "code",
   "execution_count": 12,
   "id": "0fa8f8a3",
   "metadata": {},
   "outputs": [
    {
     "name": "stdout",
     "output_type": "stream",
     "text": [
      "False\n"
     ]
    }
   ],
   "source": [
    "print(inside(1,1,0.3,0.5,1.1,0.7) and (inside(1,1,0.5,0.2,1.1,2)))"
   ]
  },
  {
   "cell_type": "markdown",
   "id": "0b88bdd6",
   "metadata": {},
   "source": [
    "now as we know the result is false, it means point(1,1) does not lie in both rectangles"
   ]
  },
  {
   "cell_type": "markdown",
   "id": "6fec8a8d",
   "metadata": {},
   "source": [
    "# QUESTION 6"
   ]
  },
  {
   "cell_type": "markdown",
   "id": "7c8c5158",
   "metadata": {},
   "source": [
    "You can turn a word into pig-Latin using the following two rules (simplified): • If the word starts with a consonant, move that letter to the end and append 'ay'. For example, 'happy' becomes 'appyhay' and 'pencil' becomes 'encilpay'. • If the word starts with a vowel, simply append 'way' to the end of the word. For example, 'enter' becomes 'enterway' and 'other' becomes 'otherway' . For our purposes, there are 5 vowels: a, e, i, o, u (so we count y as a consonant). Write a function pig() that takes a word (i.e., a string) as input and returns its pig- Latin form. Your function should still work if the input word contains upper case characters. Your output should always be lower case however.pig('happy') 'appyhay' pig('Enter')'enterway'"
   ]
  },
  {
   "cell_type": "code",
   "execution_count": 13,
   "id": "6ebdb3e9",
   "metadata": {},
   "outputs": [
    {
     "data": {
      "text/plain": [
       "'appyhay'"
      ]
     },
     "execution_count": 13,
     "metadata": {},
     "output_type": "execute_result"
    }
   ],
   "source": [
    "def pig(word):\n",
    "    vowels = 'aeiou'\n",
    "    if word[0].lower() in vowels:\n",
    "        return word.lower() + 'way'\n",
    "    else:\n",
    "        return word[1:].lower() + word[0].lower() + 'ay'\n",
    "pig('happy')"
   ]
  },
  {
   "cell_type": "code",
   "execution_count": 14,
   "id": "4132a4e9",
   "metadata": {},
   "outputs": [
    {
     "data": {
      "text/plain": [
       "'enterway'"
      ]
     },
     "execution_count": 14,
     "metadata": {},
     "output_type": "execute_result"
    }
   ],
   "source": [
    "pig('enter')"
   ]
  },
  {
   "cell_type": "markdown",
   "id": "9b27168b",
   "metadata": {},
   "source": [
    "# QUESTION 7"
   ]
  },
  {
   "cell_type": "markdown",
   "id": "7d85fa1c",
   "metadata": {},
   "source": [
    "File bloodtype1.txt records blood-types of patients (A, B, AB, O or OO) at a clinic. Write a function bldcount() that reads the file with name name and reports (i.e., prints) how many patients there are in each bloodtype.bldcount('bloodtype.txt').There are 10 patients of blood type A.There is one patient of blood type B.There are 10 patients of blood type AB.There are 12 patients of blood type O.There are no patients of blood type OO."
   ]
  },
  {
   "cell_type": "code",
   "execution_count": 15,
   "id": "6d90a336",
   "metadata": {},
   "outputs": [
    {
     "name": "stdout",
     "output_type": "stream",
     "text": [
      "There are 15 patients of blood type A.\n",
      "There is one patient of blood type B.\n",
      "There are 13 patients of blood type AB.\n",
      "There are 15 patients of blood type O.\n",
      "There are no patients of blood type OO.\n"
     ]
    }
   ],
   "source": [
    "def bldcount(dataset):\n",
    "    blood_counts = {'A': 0, 'B': 0, 'AB': 0, 'O': 0, 'OO': 0}\n",
    "    with open(dataset, 'r') as data:\n",
    "        contents = data.read()\n",
    "        blood_types = contents.split()\n",
    "        for blood_type in blood_types:\n",
    "            if blood_type in blood_counts:\n",
    "                blood_counts[blood_type] += 1\n",
    "            else:  \n",
    "                print(f\"Unknown blood type '{blood_type}' found in the file.\")\n",
    "        for blood_type, count in blood_counts.items():\n",
    "            if count == 1:\n",
    "                print(f\"There is one patient of blood type {blood_type}.\")\n",
    "            elif count > 1:\n",
    "                print(f\"There are {count} patients of blood type {blood_type}.\")\n",
    "            else:\n",
    "                print(f\"There are no patients of blood type {blood_type}.\")\n",
    "bldcount('bloodtype1.txt')"
   ]
  },
  {
   "cell_type": "markdown",
   "id": "4246d968",
   "metadata": {},
   "source": [
    "# QUESTION 8"
   ]
  },
  {
   "cell_type": "markdown",
   "id": "6b008713",
   "metadata": {},
   "source": [
    "Write a function curconv() that takes as input:\n",
    "1. a currency represented using a string (e.g., 'JPY' for the Japanese Yen or\n",
    "'EUR' for the Euro)\n",
    "2. an amount\n",
    "and then converts and returns the amount in US dollars.curconv('EUR', 100)\n",
    "122.96544.curconv('JPY', 100).1.241401.The currency rates you will need are stored in file currencies.txt:AUD 1.0345157 Australian Dollar.CHF 1.0237414 Swiss Franc.CNY 0.1550176 Chinese Yuan DKK 0.1651442 Danish Krone.EUR 1.2296544 Euro.GBP 1.5550989 British Pound.HKD 0.1270207 Hong Kong Dollar.INR 0.0177643 Indian Rupee.JPY 0.01241401 Japanese Yen.MXN 0.0751848 Mexican Peso.MYR 0.3145411 Malaysian Ringgit.NOK 0.1677063 Norwegian Krone.NZD 0.8003591 New Zealand Dollar.PHP0.0233234Philippine Peso.SEK 0.148269 Swedish Krona.SGD 0.788871 Singapore Dollar.THB 0.0313789 Thai Baht"
   ]
  },
  {
   "cell_type": "code",
   "execution_count": 16,
   "id": "8e52ca7d",
   "metadata": {},
   "outputs": [
    {
     "name": "stdout",
     "output_type": "stream",
     "text": [
      "Enter the currency code: EUR\n",
      "Enter the amount: 100\n",
      "122.96544\n"
     ]
    }
   ],
   "source": [
    "def curconv():\n",
    "       \n",
    "        with open('currencies.txt', 'r') as file:\n",
    "            lines = file.readlines()\n",
    "\n",
    "       \n",
    "        currency_rates = {}\n",
    "\n",
    "  \n",
    "        for line in lines:\n",
    "            parts = line.split()\n",
    "            code = parts[0]\n",
    "            rate = float(parts[1])\n",
    "            currency_rates[code] = rate\n",
    "\n",
    "        currency = input(\"Enter the currency code: \").upper()\n",
    "        amount = float(input(\"Enter the amount: \"))\n",
    "\n",
    "        \n",
    "        if currency in currency_rates:\n",
    "            # Convert the amount to US dollars using the corresponding rate\n",
    "            usd_amount = amount * currency_rates[currency]\n",
    "            return usd_amount\n",
    "        else:\n",
    "            print(f\"Currency '{currency}' is not found in the file.\")\n",
    "            return None\n",
    "\n",
    "print(curconv())"
   ]
  },
  {
   "cell_type": "markdown",
   "id": "f081dc89",
   "metadata": {},
   "source": [
    "# QUESTION 9"
   ]
  },
  {
   "cell_type": "markdown",
   "id": "dc231a95",
   "metadata": {},
   "source": [
    "Each of the following will cause an exception (an error). Identify what type of exception each will cause.\n",
    "\n",
    "a.Trying to add incompatible variables, as in adding 6 + ‘a’\n"
   ]
  },
  {
   "cell_type": "code",
   "execution_count": 17,
   "id": "3e2475c5",
   "metadata": {},
   "outputs": [
    {
     "name": "stdout",
     "output_type": "stream",
     "text": [
      "Error: unsupported operand type(s) for +: 'int' and 'str'\n"
     ]
    }
   ],
   "source": [
    "try:\n",
    "    endproduct = 6 + 'a'\n",
    "except TypeError as f:\n",
    "    print(\"Error:\",f)"
   ]
  },
  {
   "cell_type": "markdown",
   "id": "4c5cc667",
   "metadata": {},
   "source": [
    "This error message indicates a TypeError that happened when trying to add a string and an integer\n"
   ]
  },
  {
   "cell_type": "markdown",
   "id": "bbc66fe2",
   "metadata": {},
   "source": [
    "b.Referring to the 12th item of a list that has only 10 items\n"
   ]
  },
  {
   "cell_type": "code",
   "execution_count": 18,
   "id": "5e00f573",
   "metadata": {},
   "outputs": [
    {
     "name": "stdout",
     "output_type": "stream",
     "text": [
      "Error: list index out of range\n"
     ]
    }
   ],
   "source": [
    "try:\n",
    "    the_set = [1,2,3,4,5,6,7,8,9,10]\n",
    "    item = the_set[11]   # Tryint to get the 12th item in a list with only 10 items\n",
    "except IndexError as f:\n",
    "    print(\"Error:\",f)"
   ]
  },
  {
   "cell_type": "markdown",
   "id": "3bf6e5c9",
   "metadata": {},
   "source": [
    "This error denotes an IndexError that happens when an index that is not in the list is tried to be accessed"
   ]
  },
  {
   "cell_type": "markdown",
   "id": "5b0ba000",
   "metadata": {},
   "source": [
    "c.Using a value that is out of range for a function’s input, such as calling math.sqrt(-1.0)"
   ]
  },
  {
   "cell_type": "markdown",
   "id": "8f698d6d",
   "metadata": {},
   "source": [
    "import math\n",
    "\n",
    "try:\n",
    "    endproduct =math.sqrt(-1.0)\n",
    "except ValueError as f:\n",
    "    print(\"Error:\",f)"
   ]
  },
  {
   "cell_type": "markdown",
   "id": "5c9ad162",
   "metadata": {},
   "source": [
    "The calculation of a negative number's square root,which is not specified in the real number system will give you an Error"
   ]
  },
  {
   "cell_type": "markdown",
   "id": "93c4ffd7",
   "metadata": {},
   "source": [
    "d.Using an undeclared variable, such as print(x) when x has not been defined"
   ]
  },
  {
   "cell_type": "code",
   "execution_count": 20,
   "id": "2a91daee",
   "metadata": {},
   "outputs": [
    {
     "name": "stdout",
     "output_type": "stream",
     "text": [
      "Error: name 'x' is not defined\n"
     ]
    }
   ],
   "source": [
    "try:\n",
    "    print(x) # here, we are using variable z which is not declared\n",
    "except NameError as x:\n",
    "    print(\"Error:\", x)"
   ]
  },
  {
   "cell_type": "markdown",
   "id": "d207d63c",
   "metadata": {},
   "source": [
    "Trying to open a file that does not exist, such as\n",
    "mistyping the file name or looking in the wrong\n",
    "directory."
   ]
  },
  {
   "cell_type": "code",
   "execution_count": 22,
   "id": "e4add6f9",
   "metadata": {},
   "outputs": [
    {
     "ename": "FileNotFoundError",
     "evalue": "[Errno 2] No such file or directory: 'example.txt'",
     "output_type": "error",
     "traceback": [
      "\u001b[1;31m---------------------------------------------------------------------------\u001b[0m",
      "\u001b[1;31mFileNotFoundError\u001b[0m                         Traceback (most recent call last)",
      "Cell \u001b[1;32mIn[22], line 1\u001b[0m\n\u001b[1;32m----> 1\u001b[0m file \u001b[38;5;241m=\u001b[39m \u001b[38;5;28mopen\u001b[39m(\u001b[38;5;124m'\u001b[39m\u001b[38;5;124mexample.txt\u001b[39m\u001b[38;5;124m'\u001b[39m)\n",
      "File \u001b[1;32m~\\anaconda3\\Lib\\site-packages\\IPython\\core\\interactiveshell.py:310\u001b[0m, in \u001b[0;36m_modified_open\u001b[1;34m(file, *args, **kwargs)\u001b[0m\n\u001b[0;32m    303\u001b[0m \u001b[38;5;28;01mif\u001b[39;00m file \u001b[38;5;129;01min\u001b[39;00m {\u001b[38;5;241m0\u001b[39m, \u001b[38;5;241m1\u001b[39m, \u001b[38;5;241m2\u001b[39m}:\n\u001b[0;32m    304\u001b[0m     \u001b[38;5;28;01mraise\u001b[39;00m \u001b[38;5;167;01mValueError\u001b[39;00m(\n\u001b[0;32m    305\u001b[0m         \u001b[38;5;124mf\u001b[39m\u001b[38;5;124m\"\u001b[39m\u001b[38;5;124mIPython won\u001b[39m\u001b[38;5;124m'\u001b[39m\u001b[38;5;124mt let you open fd=\u001b[39m\u001b[38;5;132;01m{\u001b[39;00mfile\u001b[38;5;132;01m}\u001b[39;00m\u001b[38;5;124m by default \u001b[39m\u001b[38;5;124m\"\u001b[39m\n\u001b[0;32m    306\u001b[0m         \u001b[38;5;124m\"\u001b[39m\u001b[38;5;124mas it is likely to crash IPython. If you know what you are doing, \u001b[39m\u001b[38;5;124m\"\u001b[39m\n\u001b[0;32m    307\u001b[0m         \u001b[38;5;124m\"\u001b[39m\u001b[38;5;124myou can use builtins\u001b[39m\u001b[38;5;124m'\u001b[39m\u001b[38;5;124m open.\u001b[39m\u001b[38;5;124m\"\u001b[39m\n\u001b[0;32m    308\u001b[0m     )\n\u001b[1;32m--> 310\u001b[0m \u001b[38;5;28;01mreturn\u001b[39;00m io_open(file, \u001b[38;5;241m*\u001b[39margs, \u001b[38;5;241m*\u001b[39m\u001b[38;5;241m*\u001b[39mkwargs)\n",
      "\u001b[1;31mFileNotFoundError\u001b[0m: [Errno 2] No such file or directory: 'example.txt'"
     ]
    }
   ],
   "source": [
    "file = open('example.txt')"
   ]
  },
  {
   "cell_type": "markdown",
   "id": "c8d35410",
   "metadata": {},
   "source": [
    "   when there is a file that does not exist, it will not show in the directory"
   ]
  },
  {
   "cell_type": "markdown",
   "id": "485b8635",
   "metadata": {},
   "source": [
    "# QUESTION 10"
   ]
  },
  {
   "cell_type": "markdown",
   "id": "1ccb1ae7",
   "metadata": {},
   "source": [
    "Encryption is the process of hiding the meaning of a text by substituting letters in the message with other letters, according to some system. If the process is successful, no one but the intended recipient can understand the encrypted message. Cryptanalysis refers to attempts to undo the encryption, even if some details of the encryption are unknown (for example, if an encrypted message has been intercepted). The first step of cryptanalysis is often to build up a table of letter frequencies in the encrypted text. Assume that the string letters is already defined as 'abcdefghijklmnopqrstuvwxyz'. Write a function called frequencies() that takes a string as its only parameter, and returns a list of integers, showing the number of times each character appears in the text. Your function may ignore any characters that are not in letters.frequencies('The quick red fox got bored and went home.') [1, 1, 1, 3, 5, 1, 1, 2, 1, 0, 1, 0, 1, 2, 4, 0, 1, 2, 0, 2, 1, 0, 1, 1, 0, 0]. frequencies('apple')"
   ]
  },
  {
   "cell_type": "code",
   "execution_count": 21,
   "id": "93646d6a",
   "metadata": {},
   "outputs": [
    {
     "name": "stdout",
     "output_type": "stream",
     "text": [
      "Enter the text: The quick red fox got bored and went home\n",
      "[1, 1, 1, 3, 5, 1, 1, 2, 1, 0, 1, 0, 1, 2, 4, 0, 1, 2, 0, 3, 1, 0, 1, 1, 0, 0]\n",
      "Enter the text: Apple\n",
      "[1, 0, 0, 0, 1, 0, 0, 0, 0, 0, 0, 1, 0, 0, 0, 2, 0, 0, 0, 0, 0, 0, 0, 0, 0, 0]\n"
     ]
    }
   ],
   "source": [
    "def frequencies(text):\n",
    "   \n",
    "    letters = 'abcdefghijklmnopqrstuvwxyz'\n",
    "   \n",
    "   \n",
    "    frequency_list = [0] * 26\n",
    "  \n",
    "    text = text.lower()\n",
    "  \n",
    "    for char in text:\n",
    "      \n",
    "        if char in letters:\n",
    "           \n",
    "            index = letters.index(char)\n",
    "            frequency_list[index] += 1\n",
    "   \n",
    "    return frequency_list\n",
    "\n",
    "\n",
    "text1 = input(\"Enter the text: \")\n",
    "print(frequencies(text1))\n",
    "text2 = input(\"Enter the text: \")\n",
    "print(frequencies(text2))"
   ]
  },
  {
   "cell_type": "code",
   "execution_count": null,
   "id": "de5c9691",
   "metadata": {},
   "outputs": [],
   "source": []
  }
 ],
 "metadata": {
  "kernelspec": {
   "display_name": "Python 3 (ipykernel)",
   "language": "python",
   "name": "python3"
  },
  "language_info": {
   "codemirror_mode": {
    "name": "ipython",
    "version": 3
   },
   "file_extension": ".py",
   "mimetype": "text/x-python",
   "name": "python",
   "nbconvert_exporter": "python",
   "pygments_lexer": "ipython3",
   "version": "3.11.7"
  }
 },
 "nbformat": 4,
 "nbformat_minor": 5
}
